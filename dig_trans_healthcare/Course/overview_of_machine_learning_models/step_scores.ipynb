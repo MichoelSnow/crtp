{
 "cells": [
  {
   "cell_type": "code",
   "execution_count": 13,
   "metadata": {
    "ExecuteTime": {
     "end_time": "2018-07-26T13:21:52.252965Z",
     "start_time": "2018-07-26T13:21:52.246964Z"
    }
   },
   "outputs": [],
   "source": [
    "import pandas as pd\n",
    "import json\n",
    "import numpy as np"
   ]
  },
  {
   "cell_type": "code",
   "execution_count": 4,
   "metadata": {
    "ExecuteTime": {
     "end_time": "2018-07-26T13:15:39.826726Z",
     "start_time": "2018-07-26T13:15:39.818725Z"
    }
   },
   "outputs": [],
   "source": [
    "with open(f'step_scores.json') as f:\n",
    "    step_scores = json.load(f)"
   ]
  },
  {
   "cell_type": "code",
   "execution_count": 40,
   "metadata": {
    "ExecuteTime": {
     "end_time": "2018-07-26T13:41:03.405069Z",
     "start_time": "2018-07-26T13:41:03.299058Z"
    }
   },
   "outputs": [],
   "source": [
    "rand_state = 42\n",
    "score_dict = {}\n",
    "student_ct = 0\n",
    "for residency in step_scores.keys():\n",
    "    step1_scores = []\n",
    "    step2_scores = []\n",
    "    for step1 in step_scores[residency].keys():\n",
    "        step1_range = step1.split('-')\n",
    "        step1_low = int(step1_range[0])\n",
    "        for step2 in step_scores[residency][step1].keys():\n",
    "            score_ct = step_scores[residency][step1][step2]\n",
    "            step2_range = step2.split('-')\n",
    "            step2_low = int(step2_range[0])\n",
    "            step1_scores = list(np.random.RandomState(rand_state).randint(step1_low,step1_low+10,score_ct))\n",
    "            step2_scores = list(np.random.RandomState(rand_state).randint(step2_low,step2_low+10,score_ct))\n",
    "            for i in range(len(step1_scores)):\n",
    "                score_dict[student_ct] = {'step1':step1_scores[i],'step2':step2_scores[i],'residency':residency}\n",
    "                student_ct += 1"
   ]
  },
  {
   "cell_type": "code",
   "execution_count": 42,
   "metadata": {
    "ExecuteTime": {
     "end_time": "2018-07-26T13:41:21.523880Z",
     "start_time": "2018-07-26T13:41:21.117840Z"
    }
   },
   "outputs": [
    {
     "data": {
      "text/html": [
       "<div>\n",
       "<style scoped>\n",
       "    .dataframe tbody tr th:only-of-type {\n",
       "        vertical-align: middle;\n",
       "    }\n",
       "\n",
       "    .dataframe tbody tr th {\n",
       "        vertical-align: top;\n",
       "    }\n",
       "\n",
       "    .dataframe thead th {\n",
       "        text-align: right;\n",
       "    }\n",
       "</style>\n",
       "<table border=\"1\" class=\"dataframe\">\n",
       "  <thead>\n",
       "    <tr style=\"text-align: right;\">\n",
       "      <th></th>\n",
       "      <th>step1</th>\n",
       "      <th>step2</th>\n",
       "      <th>residency</th>\n",
       "    </tr>\n",
       "  </thead>\n",
       "  <tbody>\n",
       "    <tr>\n",
       "      <th>0</th>\n",
       "      <td>266</td>\n",
       "      <td>236</td>\n",
       "      <td>anesthesiology</td>\n",
       "    </tr>\n",
       "    <tr>\n",
       "      <th>1</th>\n",
       "      <td>263</td>\n",
       "      <td>233</td>\n",
       "      <td>anesthesiology</td>\n",
       "    </tr>\n",
       "    <tr>\n",
       "      <th>2</th>\n",
       "      <td>266</td>\n",
       "      <td>246</td>\n",
       "      <td>anesthesiology</td>\n",
       "    </tr>\n",
       "    <tr>\n",
       "      <th>3</th>\n",
       "      <td>263</td>\n",
       "      <td>243</td>\n",
       "      <td>anesthesiology</td>\n",
       "    </tr>\n",
       "    <tr>\n",
       "      <th>4</th>\n",
       "      <td>267</td>\n",
       "      <td>247</td>\n",
       "      <td>anesthesiology</td>\n",
       "    </tr>\n",
       "  </tbody>\n",
       "</table>\n",
       "</div>"
      ],
      "text/plain": [
       "   step1  step2       residency\n",
       "0    266    236  anesthesiology\n",
       "1    263    233  anesthesiology\n",
       "2    266    246  anesthesiology\n",
       "3    263    243  anesthesiology\n",
       "4    267    247  anesthesiology"
      ]
     },
     "execution_count": 42,
     "metadata": {},
     "output_type": "execute_result"
    }
   ],
   "source": [
    "step_scores_df = pd.DataFrame.from_dict(score_dict, orient='index')\n",
    "step_scores_df.head()"
   ]
  },
  {
   "cell_type": "code",
   "execution_count": 43,
   "metadata": {
    "ExecuteTime": {
     "end_time": "2018-07-26T13:41:27.035432Z",
     "start_time": "2018-07-26T13:41:27.029431Z"
    }
   },
   "outputs": [
    {
     "data": {
      "text/plain": [
       "(22278, 3)"
      ]
     },
     "execution_count": 43,
     "metadata": {},
     "output_type": "execute_result"
    }
   ],
   "source": [
    "step_scores_df.shape"
   ]
  },
  {
   "cell_type": "code",
   "execution_count": 49,
   "metadata": {
    "ExecuteTime": {
     "end_time": "2018-07-26T13:43:24.948222Z",
     "start_time": "2018-07-26T13:43:24.936220Z"
    }
   },
   "outputs": [
    {
     "data": {
      "text/plain": [
       "array(['anesthesiology', 'dermatology', 'EmergencyMedicine',\n",
       "       'FamilyMedicine', 'InternalMedicine', 'MedicalGenetics',\n",
       "       'NeurologicalSurgery', 'Neurology', 'NuclearMedicine',\n",
       "       'ObstetricsGynecology', 'Ophthalmology', 'OrthopaedicSurgery',\n",
       "       'Otolaryngology', 'PathologySnatomicClinical', 'Pediatrics',\n",
       "       'PhysicalMedicineRehabilitation', 'PlasticSurgery',\n",
       "       'PlasticSurgeryIntegrated', 'PreventiveMedicine', 'Psychiatry',\n",
       "       'RadiationOncology', 'RadiationDiagnostic', 'RadiologyDiagnostic',\n",
       "       'Surgery', 'ThoracicSurgeryIntegrated',\n",
       "       'VascularSurgeryIntegrated', 'Urology',\n",
       "       'InternalMedicinePediatrics'], dtype=object)"
      ]
     },
     "execution_count": 49,
     "metadata": {},
     "output_type": "execute_result"
    }
   ],
   "source": [
    "step_scores_df.residency.unique()"
   ]
  },
  {
   "cell_type": "code",
   "execution_count": 48,
   "metadata": {
    "ExecuteTime": {
     "end_time": "2018-07-26T13:42:56.662393Z",
     "start_time": "2018-07-26T13:42:56.491376Z"
    }
   },
   "outputs": [
    {
     "data": {
      "text/plain": [
       "<matplotlib.axes._subplots.AxesSubplot at 0x9500518>"
      ]
     },
     "execution_count": 48,
     "metadata": {},
     "output_type": "execute_result"
    },
    {
     "data": {
      "image/png": "[encoded data removed]",
      "text/plain": [
       "<Figure size 432x288 with 1 Axes>"
      ]
     },
     "metadata": {},
     "output_type": "display_data"
    }
   ],
   "source": [
    "df = step_scores_df.loc[step_scores_df.residency=='anesthesiology','step1']\n",
    "df.hist()"
   ]
  },
  {
   "cell_type": "code",
   "execution_count": 51,
   "metadata": {
    "ExecuteTime": {
     "end_time": "2018-07-26T13:43:51.098836Z",
     "start_time": "2018-07-26T13:43:50.903817Z"
    }
   },
   "outputs": [
    {
     "data": {
      "text/plain": [
       "<matplotlib.axes._subplots.AxesSubplot at 0x95f2358>"
      ]
     },
     "execution_count": 51,
     "metadata": {},
     "output_type": "execute_result"
    },
    {
     "data": {
      "image/png": "[encoded data removed]",
      "text/plain": [
       "<Figure size 432x288 with 1 Axes>"
      ]
     },
     "metadata": {},
     "output_type": "display_data"
    }
   ],
   "source": [
    "df = step_scores_df.loc[step_scores_df.residency=='Psychiatry','step1']\n",
    "df.hist()"
   ]
  }
 ],
 "metadata": {
  "kernelspec": {
   "display_name": "Python 3",
   "language": "python",
   "name": "python3"
  },
  "language_info": {
   "codemirror_mode": {
    "name": "ipython",
    "version": 3
   },
   "file_extension": ".py",
   "mimetype": "text/x-python",
   "name": "python",
   "nbconvert_exporter": "python",
   "pygments_lexer": "ipython3",
   "version": "3.6.5"
  }
 },
 "nbformat": 4,
 "nbformat_minor": 2
}
