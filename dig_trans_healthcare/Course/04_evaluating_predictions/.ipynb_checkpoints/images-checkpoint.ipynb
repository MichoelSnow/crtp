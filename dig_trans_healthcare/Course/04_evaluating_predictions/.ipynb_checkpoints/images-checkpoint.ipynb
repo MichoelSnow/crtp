{
 "cells": [
  {
   "cell_type": "code",
   "execution_count": 36,
   "metadata": {},
   "outputs": [],
   "source": [
    "import pandas as pd\n",
    "import numpy as np\n",
    "from plotnine import *\n",
    "import plotnine as p9\n",
    "import os\n",
    "import warnings\n",
    "\n",
    "warnings.simplefilter(action='ignore', category=FutureWarning)\n",
    "pd.options.display.max_rows = 999\n",
    "p9.options.figure_size = (10,7)"
   ]
  },
  {
   "cell_type": "code",
   "execution_count": 6,
   "metadata": {},
   "outputs": [],
   "source": [
    "PATH = '/MyDocuments/GitHub/curriculum/dig_trans_healthcare/Course/04_evaluating_predictions/'\n",
    "PATH_I = os.path.join(PATH,'images')"
   ]
  },
  {
   "cell_type": "code",
   "execution_count": 198,
   "metadata": {},
   "outputs": [],
   "source": [
    "tex_theme = theme(plot_background = element_rect(fill = '#fafafa', color = '#fafafa'), axis_text_x=element_text(size=12),\n",
    "         axis_text_y=element_text(size=12), axis_title_x=element_text(size=15), axis_title_y=element_text(size=15),\n",
    "        legend_background = element_rect(fill=\"#fafafa\"), legend_title=element_text(size=15),legend_text=element_text(size=12),\n",
    "         legend_position=(.8,.7))"
   ]
  },
  {
   "cell_type": "code",
   "execution_count": 107,
   "metadata": {},
   "outputs": [],
   "source": [
    "def norm_line(ptct,grp,mn=0,sd=1):\n",
    "    x = np.linspace(mn-sd*4,mn+sd*4,ptct)\n",
    "    y = 1/np.sqrt(2*np.pi*sd**2) * np.exp(-1*(x-mn)**2/(2*sd**2))\n",
    "    df = pd.DataFrame({'x':x,'y':y,'grp':grp})\n",
    "    return df    "
   ]
  },
  {
   "cell_type": "code",
   "execution_count": 91,
   "metadata": {},
   "outputs": [],
   "source": [
    "from plotnine import * \n",
    "from plotnine.data import *"
   ]
  },
  {
   "cell_type": "code",
   "execution_count": 134,
   "metadata": {},
   "outputs": [],
   "source": [
    "def norm_line(ptct,grp,mn=0,sd=1):\n",
    "    x = np.linspace(mn-sd*4,mn+sd*4,ptct)\n",
    "    y = 1/np.sqrt(2*np.pi*sd**2) * np.exp(-1*(x-mn)**2/(2*sd**2))\n",
    "    df = pd.DataFrame({'x':x,'y':y,'Disease':grp})\n",
    "    return df  "
   ]
  },
  {
   "cell_type": "code",
   "execution_count": null,
   "metadata": {},
   "outputs": [],
   "source": [
    "df1 = norm_line(ptct=200,grp='Positive',mn=45,sd=7)\n",
    "df2 = norm_line(ptct=200,grp='Negative',mn=35,sd=5)\n",
    "df_grp = pd.concat([df1,df2])\n",
    "thresh = 40\n",
    "max_val = 1.2*max(df2.y.max(),df1.y.max())\n",
    "df3 = pd.DataFrame({'x':[thresh, thresh],'y':[0,max_val]})"
   ]
  },
  {
   "cell_type": "code",
   "execution_count": 203,
   "metadata": {
    "scrolled": false
   },
   "outputs": [
    {
     "name": "stderr",
     "output_type": "stream",
     "text": [
      "E:\\Anaconda3\\envs\\curriculum\\lib\\site-packages\\plotnine\\ggplot.py:688: UserWarning: Saving 10 x 7 in image.\n",
      "  from_inches(height, units), units))\n",
      "E:\\Anaconda3\\envs\\curriculum\\lib\\site-packages\\plotnine\\ggplot.py:689: UserWarning: Filename: /MyDocuments/GitHub/curriculum/dig_trans_healthcare/Course/04_evaluating_predictions/images/overlap_distr.pdf\n",
      "  warn('Filename: {}'.format(filename))\n"
     ]
    }
   ],
   "source": [
    "# df_grp.reset_index(inplace=True, drop=True)\n",
    "# p = (ggplot(df, aes(x='date', y='value',color='variable'))\n",
    "thresh = 40\n",
    "max_val = 1.2*max(df2.y.max(),df1.y.max())\n",
    "df3 = pd.DataFrame({'x':[thresh, thresh],'y':[0,max_val]})\n",
    "p = (ggplot(df_grp, aes(x='x', y='y',color='Disease'))\n",
    "    + geom_line(size=1.5)\n",
    "    + scale_color_manual(['b','r'])\n",
    "    + geom_area(df1.loc[df1.x<=(thresh+.1),:],aes('x', 'y'),fill='red',alpha=0.3,show_legend=False, color=None)\n",
    "    + geom_area(df2.loc[df2.x>=(thresh-.1),:],aes('x', 'y'),fill='blue',alpha=0.3,show_legend=False, color=None)\n",
    "    + geom_line(df3,aes('x','y'),color='k',size=1.5,show_legend=False)\n",
    "    + xlab('Threshold')\n",
    "    + ylab('Density')\n",
    "    + tex_theme )\n",
    "# p\n",
    "p.save(f'{PATH_I}/overlap_distr.pdf')"
   ]
  },
  {
   "cell_type": "code",
   "execution_count": 209,
   "metadata": {},
   "outputs": [
    {
     "name": "stderr",
     "output_type": "stream",
     "text": [
      "E:\\Anaconda3\\envs\\curriculum\\lib\\site-packages\\plotnine\\ggplot.py:688: UserWarning: Saving 10 x 7 in image.\n",
      "  from_inches(height, units), units))\n",
      "E:\\Anaconda3\\envs\\curriculum\\lib\\site-packages\\plotnine\\ggplot.py:689: UserWarning: Filename: /MyDocuments/GitHub/curriculum/dig_trans_healthcare/Course/04_evaluating_predictions/images/overlap_distr_thi.pdf\n",
      "  warn('Filename: {}'.format(filename))\n"
     ]
    }
   ],
   "source": [
    "thresh = 47\n",
    "max_val = 1.2*max(df2.y.max(),df1.y.max())\n",
    "df3 = pd.DataFrame({'x':[thresh, thresh],'y':[0,max_val]})\n",
    "p = (ggplot(df_grp, aes(x='x', y='y',color='Disease'))\n",
    "    + geom_line(size=1.5)\n",
    "    + scale_color_manual(['b','r'])\n",
    "    + geom_area(df1.loc[df1.x<=(thresh+.1),:],aes('x', 'y'),fill='red',alpha=0.3,show_legend=False, color=None)\n",
    "    + geom_area(df2.loc[df2.x>=(thresh-.1),:],aes('x', 'y'),fill='blue',alpha=0.3,show_legend=False, color=None)\n",
    "    + geom_line(df3,aes('x','y'),color='k',size=1.5,show_legend=False)\n",
    "    + xlab('Threshold')\n",
    "    + ylab('Density')\n",
    "    + tex_theme )\n",
    "p.save(f'{PATH_I}/overlap_distr_thi.pdf')"
   ]
  },
  {
   "cell_type": "code",
   "execution_count": 90,
   "metadata": {},
   "outputs": [
    {
     "data": {
      "text/plain": [
       "'/MyDocuments/GitHub/curriculum/dig_trans_healthcare/Course/04_evaluating_predictions/imagestest2.pdf'"
      ]
     },
     "execution_count": 90,
     "metadata": {},
     "output_type": "execute_result"
    }
   ],
   "source": [
    "f'{PATH_I}test2.pdf'"
   ]
  },
  {
   "cell_type": "code",
   "execution_count": null,
   "metadata": {},
   "outputs": [],
   "source": []
  }
 ],
 "metadata": {
  "kernelspec": {
   "display_name": "Python 3",
   "language": "python",
   "name": "python3"
  },
  "language_info": {
   "codemirror_mode": {
    "name": "ipython",
    "version": 3
   },
   "file_extension": ".py",
   "mimetype": "text/x-python",
   "name": "python",
   "nbconvert_exporter": "python",
   "pygments_lexer": "ipython3",
   "version": "3.6.5"
  }
 },
 "nbformat": 4,
 "nbformat_minor": 2
}
