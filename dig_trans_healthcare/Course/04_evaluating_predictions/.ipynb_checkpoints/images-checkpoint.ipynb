{
 "cells": [
  {
   "cell_type": "code",
   "execution_count": 211,
   "metadata": {},
   "outputs": [],
   "source": [
    "import pandas as pd\n",
    "import numpy as np\n",
    "from plotnine import *\n",
    "import plotnine as p9\n",
    "import os\n",
    "import warnings\n",
    "from scipy import stats\n",
    "\n",
    "warnings.simplefilter(action='ignore', category=FutureWarning)\n",
    "pd.options.display.max_rows = 999\n",
    "p9.options.figure_size = (10,7)"
   ]
  },
  {
   "cell_type": "code",
   "execution_count": 6,
   "metadata": {},
   "outputs": [],
   "source": [
    "PATH = '/MyDocuments/GitHub/curriculum/dig_trans_healthcare/Course/04_evaluating_predictions/'\n",
    "PATH_I = os.path.join(PATH,'images')"
   ]
  },
  {
   "cell_type": "code",
   "execution_count": 198,
   "metadata": {},
   "outputs": [],
   "source": [
    "tex_theme = theme(plot_background = element_rect(fill = '#fafafa', color = '#fafafa'), axis_text_x=element_text(size=12),\n",
    "         axis_text_y=element_text(size=12), axis_title_x=element_text(size=15), axis_title_y=element_text(size=15),\n",
    "        legend_background = element_rect(fill=\"#fafafa\"), legend_title=element_text(size=15),legend_text=element_text(size=12),\n",
    "         legend_position=(.8,.7))"
   ]
  },
  {
   "cell_type": "code",
   "execution_count": 107,
   "metadata": {},
   "outputs": [],
   "source": [
    "def norm_line(ptct,grp,mn=0,sd=1):\n",
    "    x = np.linspace(mn-sd*4,mn+sd*4,ptct)\n",
    "    y = 1/np.sqrt(2*np.pi*sd**2) * np.exp(-1*(x-mn)**2/(2*sd**2))\n",
    "    df = pd.DataFrame({'x':x,'y':y,'grp':grp})\n",
    "    return df    "
   ]
  },
  {
   "cell_type": "code",
   "execution_count": 91,
   "metadata": {},
   "outputs": [],
   "source": [
    "from plotnine import * \n",
    "from plotnine.data import *"
   ]
  },
  {
   "cell_type": "code",
   "execution_count": 134,
   "metadata": {},
   "outputs": [],
   "source": [
    "def norm_line(ptct,grp,mn=0,sd=1):\n",
    "    x = np.linspace(mn-sd*4,mn+sd*4,ptct)\n",
    "    y = 1/np.sqrt(2*np.pi*sd**2) * np.exp(-1*(x-mn)**2/(2*sd**2))\n",
    "    df = pd.DataFrame({'x':x,'y':y,'Disease':grp})\n",
    "    return df  "
   ]
  },
  {
   "cell_type": "code",
   "execution_count": null,
   "metadata": {},
   "outputs": [],
   "source": [
    "df1 = norm_line(ptct=200,grp='Positive',mn=45,sd=7)\n",
    "df2 = norm_line(ptct=200,grp='Negative',mn=35,sd=5)\n",
    "df_grp = pd.concat([df1,df2])\n",
    "thresh = 40\n",
    "max_val = 1.2*max(df2.y.max(),df1.y.max())\n",
    "df3 = pd.DataFrame({'x':[thresh, thresh],'y':[0,max_val]})"
   ]
  },
  {
   "cell_type": "code",
   "execution_count": 203,
   "metadata": {
    "scrolled": false
   },
   "outputs": [
    {
     "name": "stderr",
     "output_type": "stream",
     "text": [
      "E:\\Anaconda3\\envs\\curriculum\\lib\\site-packages\\plotnine\\ggplot.py:688: UserWarning: Saving 10 x 7 in image.\n",
      "  from_inches(height, units), units))\n",
      "E:\\Anaconda3\\envs\\curriculum\\lib\\site-packages\\plotnine\\ggplot.py:689: UserWarning: Filename: /MyDocuments/GitHub/curriculum/dig_trans_healthcare/Course/04_evaluating_predictions/images/overlap_distr.pdf\n",
      "  warn('Filename: {}'.format(filename))\n"
     ]
    }
   ],
   "source": [
    "# df_grp.reset_index(inplace=True, drop=True)\n",
    "# p = (ggplot(df, aes(x='date', y='value',color='variable'))\n",
    "thresh = 40\n",
    "max_val = 1.2*max(df2.y.max(),df1.y.max())\n",
    "df3 = pd.DataFrame({'x':[thresh, thresh],'y':[0,max_val]})\n",
    "p = (ggplot(df_grp, aes(x='x', y='y',color='Disease'))\n",
    "    + geom_line(size=1.5)\n",
    "    + scale_color_manual(['b','r'])\n",
    "    + geom_area(df1.loc[df1.x<=(thresh+.1),:],aes('x', 'y'),fill='red',alpha=0.3,show_legend=False, color=None)\n",
    "    + geom_area(df2.loc[df2.x>=(thresh-.1),:],aes('x', 'y'),fill='blue',alpha=0.3,show_legend=False, color=None)\n",
    "    + geom_line(df3,aes('x','y'),color='k',size=1.5,show_legend=False)\n",
    "    + xlab('Threshold')\n",
    "    + ylab('Density')\n",
    "    + tex_theme )\n",
    "# p\n",
    "p.save(f'{PATH_I}/overlap_distr.pdf')"
   ]
  },
  {
   "cell_type": "code",
   "execution_count": 209,
   "metadata": {},
   "outputs": [
    {
     "name": "stderr",
     "output_type": "stream",
     "text": [
      "E:\\Anaconda3\\envs\\curriculum\\lib\\site-packages\\plotnine\\ggplot.py:688: UserWarning: Saving 10 x 7 in image.\n",
      "  from_inches(height, units), units))\n",
      "E:\\Anaconda3\\envs\\curriculum\\lib\\site-packages\\plotnine\\ggplot.py:689: UserWarning: Filename: /MyDocuments/GitHub/curriculum/dig_trans_healthcare/Course/04_evaluating_predictions/images/overlap_distr_thi.pdf\n",
      "  warn('Filename: {}'.format(filename))\n"
     ]
    }
   ],
   "source": [
    "thresh = 47\n",
    "max_val = 1.2*max(df2.y.max(),df1.y.max())\n",
    "df3 = pd.DataFrame({'x':[thresh, thresh],'y':[0,max_val]})\n",
    "p = (ggplot(df_grp, aes(x='x', y='y',color='Disease'))\n",
    "    + geom_line(size=1.5)\n",
    "    + scale_color_manual(['b','r'])\n",
    "    + geom_area(df1.loc[df1.x<=(thresh+.1),:],aes('x', 'y'),fill='red',alpha=0.3,show_legend=False, color=None)\n",
    "    + geom_area(df2.loc[df2.x>=(thresh-.1),:],aes('x', 'y'),fill='blue',alpha=0.3,show_legend=False, color=None)\n",
    "    + geom_line(df3,aes('x','y'),color='k',size=1.5,show_legend=False)\n",
    "    + xlab('Threshold')\n",
    "    + ylab('Density')\n",
    "    + tex_theme )\n",
    "p.save(f'{PATH_I}/overlap_distr_thi.pdf')"
   ]
  },
  {
   "cell_type": "code",
   "execution_count": 90,
   "metadata": {},
   "outputs": [
    {
     "data": {
      "text/plain": [
       "'/MyDocuments/GitHub/curriculum/dig_trans_healthcare/Course/04_evaluating_predictions/imagestest2.pdf'"
      ]
     },
     "execution_count": 90,
     "metadata": {},
     "output_type": "execute_result"
    }
   ],
   "source": [
    "f'{PATH_I}test2.pdf'"
   ]
  },
  {
   "cell_type": "markdown",
   "metadata": {},
   "source": [
    "# ROC curve"
   ]
  },
  {
   "cell_type": "code",
   "execution_count": 222,
   "metadata": {},
   "outputs": [
    {
     "data": {
      "text/plain": [
       "0.5"
      ]
     },
     "execution_count": 222,
     "metadata": {},
     "output_type": "execute_result"
    }
   ],
   "source": []
  },
  {
   "cell_type": "code",
   "execution_count": 236,
   "metadata": {},
   "outputs": [
    {
     "data": {
      "text/plain": [
       "array([1.00000000e+00, 1.00000000e+00, 1.00000000e+00, 9.99999999e-01,\n",
       "       9.99999998e-01, 9.99999994e-01, 9.99999987e-01, 9.99999972e-01,\n",
       "       9.99999937e-01, 9.99999865e-01, 9.99999713e-01, 9.99999405e-01,\n",
       "       9.99998787e-01, 9.99997578e-01, 9.99995257e-01, 9.99990892e-01,\n",
       "       9.99982850e-01, 9.99968329e-01, 9.99942640e-01, 9.99898111e-01,\n",
       "       9.99822480e-01, 9.99696617e-01, 9.99491379e-01, 9.99163463e-01,\n",
       "       9.98650102e-01, 9.97862633e-01, 9.96679057e-01, 9.94936005e-01,\n",
       "       9.92420781e-01, 9.88864511e-01, 9.83937714e-01, 9.77249868e-01,\n",
       "       9.68354584e-01, 9.56761867e-01, 9.41958433e-01, 9.23436274e-01,\n",
       "       9.00728603e-01, 8.73451046e-01, 8.41344746e-01, 8.04317031e-01,\n",
       "       7.62474738e-01, 7.16145417e-01, 6.65882429e-01, 6.12451519e-01,\n",
       "       5.56798497e-01, 5.00000000e-01, 4.43201503e-01, 3.87548481e-01,\n",
       "       3.34117571e-01, 2.83854583e-01, 2.37525262e-01, 1.95682969e-01,\n",
       "       1.58655254e-01, 1.26548954e-01, 9.92713968e-02, 7.65637255e-02,\n",
       "       5.80415669e-02, 4.32381327e-02, 3.16454161e-02, 2.27501319e-02,\n",
       "       1.60622856e-02, 1.11354895e-02, 7.57921944e-03, 5.06399527e-03,\n",
       "       3.32094274e-03, 2.13736698e-03, 1.34989803e-03, 8.36537361e-04,\n",
       "       5.08620675e-04, 3.03383423e-04, 1.77519690e-04, 1.01889230e-04,\n",
       "       5.73600605e-05, 3.16712418e-05, 1.71502811e-05, 9.10764857e-06,\n",
       "       4.74296520e-06, 2.42205206e-06, 1.21280057e-06, 5.95458375e-07,\n",
       "       2.86651572e-07, 1.35295691e-07, 6.26075997e-08, 2.84034553e-08,\n",
       "       1.26329475e-08, 5.50828855e-09, 2.35449022e-09, 9.86587645e-10,\n",
       "       4.05250866e-10, 1.63174833e-10, 6.44043618e-11, 2.49173959e-11,\n",
       "       9.44948409e-12, 3.51256860e-12, 1.27981254e-12, 4.57053083e-13,\n",
       "       1.59985223e-13, 5.48883984e-14, 1.84571012e-14, 6.08308275e-15])"
      ]
     },
     "execution_count": 236,
     "metadata": {},
     "output_type": "execute_result"
    }
   ],
   "source": [
    "cdf_pos"
   ]
  },
  {
   "cell_type": "code",
   "execution_count": 289,
   "metadata": {},
   "outputs": [],
   "source": [
    "diag = pd.DataFrame({'x':[0,1],'y':[0,1]})"
   ]
  },
  {
   "cell_type": "code",
   "execution_count": 298,
   "metadata": {},
   "outputs": [
    {
     "data": {
      "image/png": "[encoded data removed]",
      "text/plain": [
       "<Figure size 1000x700 with 1 Axes>"
      ]
     },
     "metadata": {},
     "output_type": "display_data"
    },
    {
     "data": {
      "text/plain": [
       "<ggplot: (12485068)>"
      ]
     },
     "execution_count": 298,
     "metadata": {},
     "output_type": "execute_result"
    }
   ],
   "source": [
    "cdf_pos=stats.norm.cdf(range(100,0,-1), scale=7, loc=45)\n",
    "cdf_neg=stats.norm.cdf(range(100,0,-1), scale=5, loc=35)\n",
    "df_cdf = pd.DataFrame({'TPR':1-cdf_pos,'FPR':1-cdf_neg})\n",
    "p2 = ggplot() + geom_line(df_cdf,aes('FPR','TPR'))  + geom_line(diag, aes('x','y'),linetype='dashed',color='r') + tex_theme\n",
    "    \n",
    "p2"
   ]
  }
 ],
 "metadata": {
  "kernelspec": {
   "display_name": "Python 3",
   "language": "python",
   "name": "python3"
  },
  "language_info": {
   "codemirror_mode": {
    "name": "ipython",
    "version": 3
   },
   "file_extension": ".py",
   "mimetype": "text/x-python",
   "name": "python",
   "nbconvert_exporter": "python",
   "pygments_lexer": "ipython3",
   "version": "3.6.5"
  }
 },
 "nbformat": 4,
 "nbformat_minor": 2
}
