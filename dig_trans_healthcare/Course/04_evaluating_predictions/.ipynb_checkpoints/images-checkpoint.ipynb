{
 "cells": [
  {
   "cell_type": "code",
   "execution_count": 1,
   "metadata": {
    "ExecuteTime": {
     "end_time": "2018-07-19T13:28:47.754011Z",
     "start_time": "2018-07-19T13:28:35.791815Z"
    }
   },
   "outputs": [],
   "source": [
    "import pandas as pd\n",
    "import numpy as np\n",
    "from plotnine import *\n",
    "import plotnine as p9\n",
    "import os\n",
    "import warnings\n",
    "from scipy import stats\n",
    "\n",
    "warnings.simplefilter(action='ignore', category=FutureWarning)\n",
    "pd.options.display.max_rows = 999\n",
    "p9.options.figure_size = (10,7)"
   ]
  },
  {
   "cell_type": "code",
   "execution_count": 2,
   "metadata": {
    "ExecuteTime": {
     "end_time": "2018-07-19T13:28:47.762012Z",
     "start_time": "2018-07-19T13:28:47.759012Z"
    }
   },
   "outputs": [],
   "source": [
    "PATH = '/MyDocuments/GitHub/curriculum/dig_trans_healthcare/Course/04_evaluating_predictions/'\n",
    "PATH_I = os.path.join(PATH,'images')"
   ]
  },
  {
   "cell_type": "code",
   "execution_count": 3,
   "metadata": {
    "ExecuteTime": {
     "end_time": "2018-07-19T13:28:47.779014Z",
     "start_time": "2018-07-19T13:28:47.765013Z"
    }
   },
   "outputs": [],
   "source": [
    "tex_theme = theme(plot_background = element_rect(fill = '#fafafa', color = '#fafafa'), axis_text_x=element_text(size=12),\n",
    "         axis_text_y=element_text(size=12), axis_title_x=element_text(size=15), axis_title_y=element_text(size=15),\n",
    "        legend_background = element_rect(fill=\"#fafafa\"), legend_title=element_text(size=15),legend_text=element_text(size=12),\n",
    "         legend_position=(.8,.7))\n",
    "tex_theme_blank = theme(plot_background = element_rect(fill = '#fafafa', color = 'black'), axis_text_x=element_blank(),\n",
    "          axis_text_y=element_blank(),axis_ticks=element_blank(),\n",
    "          axis_title_x=element_blank(),axis_title_y=element_blank())\n",
    "blank_theme = theme(axis_line=element_blank(),axis_text_x=element_blank(),\n",
    "          axis_text_y=element_blank(),axis_ticks=element_blank(),\n",
    "          axis_title_x=element_blank(),axis_title_y=element_blank(),\n",
    "          panel_background=element_blank(),panel_border=element_blank(),panel_grid_major=element_blank(),\n",
    "          panel_grid_minor=element_blank(),\n",
    "           plot_background = element_rect(fill = '#fafafa', color = '#fafafa'))\n",
    "\n"
   ]
  },
  {
   "cell_type": "code",
   "execution_count": 107,
   "metadata": {},
   "outputs": [],
   "source": [
    "def norm_line(ptct,grp,mn=0,sd=1):\n",
    "    x = np.linspace(mn-sd*4,mn+sd*4,ptct)\n",
    "    y = 1/np.sqrt(2*np.pi*sd**2) * np.exp(-1*(x-mn)**2/(2*sd**2))\n",
    "    df = pd.DataFrame({'x':x,'y':y,'grp':grp})\n",
    "    return df    "
   ]
  },
  {
   "cell_type": "code",
   "execution_count": 91,
   "metadata": {},
   "outputs": [],
   "source": [
    "from plotnine import * \n",
    "from plotnine.data import *"
   ]
  },
  {
   "cell_type": "code",
   "execution_count": 134,
   "metadata": {},
   "outputs": [],
   "source": [
    "def norm_line(ptct,grp,mn=0,sd=1):\n",
    "    x = np.linspace(mn-sd*4,mn+sd*4,ptct)\n",
    "    y = 1/np.sqrt(2*np.pi*sd**2) * np.exp(-1*(x-mn)**2/(2*sd**2))\n",
    "    df = pd.DataFrame({'x':x,'y':y,'Disease':grp})\n",
    "    return df  "
   ]
  },
  {
   "cell_type": "code",
   "execution_count": null,
   "metadata": {},
   "outputs": [],
   "source": [
    "df1 = norm_line(ptct=200,grp='Positive',mn=45,sd=7)\n",
    "df2 = norm_line(ptct=200,grp='Negative',mn=35,sd=5)\n",
    "df_grp = pd.concat([df1,df2])\n",
    "thresh = 40\n",
    "max_val = 1.2*max(df2.y.max(),df1.y.max())\n",
    "df3 = pd.DataFrame({'x':[thresh, thresh],'y':[0,max_val]})"
   ]
  },
  {
   "cell_type": "code",
   "execution_count": 203,
   "metadata": {
    "scrolled": false
   },
   "outputs": [
    {
     "name": "stderr",
     "output_type": "stream",
     "text": [
      "E:\\Anaconda3\\envs\\curriculum\\lib\\site-packages\\plotnine\\ggplot.py:688: UserWarning: Saving 10 x 7 in image.\n",
      "  from_inches(height, units), units))\n",
      "E:\\Anaconda3\\envs\\curriculum\\lib\\site-packages\\plotnine\\ggplot.py:689: UserWarning: Filename: /MyDocuments/GitHub/curriculum/dig_trans_healthcare/Course/04_evaluating_predictions/images/overlap_distr.pdf\n",
      "  warn('Filename: {}'.format(filename))\n"
     ]
    }
   ],
   "source": [
    "# df_grp.reset_index(inplace=True, drop=True)\n",
    "# p = (ggplot(df, aes(x='date', y='value',color='variable'))\n",
    "thresh = 40\n",
    "max_val = 1.2*max(df2.y.max(),df1.y.max())\n",
    "df3 = pd.DataFrame({'x':[thresh, thresh],'y':[0,max_val]})\n",
    "p = (ggplot(df_grp, aes(x='x', y='y',color='Disease'))\n",
    "    + geom_line(size=1.5)\n",
    "    + scale_color_manual(['b','r'])\n",
    "    + geom_area(df1.loc[df1.x<=(thresh+.1),:],aes('x', 'y'),fill='red',alpha=0.3,show_legend=False, color=None)\n",
    "    + geom_area(df2.loc[df2.x>=(thresh-.1),:],aes('x', 'y'),fill='blue',alpha=0.3,show_legend=False, color=None)\n",
    "    + geom_line(df3,aes('x','y'),color='k',size=1.5,show_legend=False)\n",
    "    + xlab('Threshold')\n",
    "    + ylab('Density')\n",
    "    + tex_theme )\n",
    "# p\n",
    "p.save(f'{PATH_I}/overlap_distr.pdf')"
   ]
  },
  {
   "cell_type": "code",
   "execution_count": 319,
   "metadata": {},
   "outputs": [
    {
     "name": "stderr",
     "output_type": "stream",
     "text": [
      "E:\\Anaconda3\\envs\\curriculum\\lib\\site-packages\\plotnine\\ggplot.py:688: UserWarning: Saving 10 x 7 in image.\n",
      "  from_inches(height, units), units))\n",
      "E:\\Anaconda3\\envs\\curriculum\\lib\\site-packages\\plotnine\\ggplot.py:689: UserWarning: Filename: /MyDocuments/GitHub/curriculum/dig_trans_healthcare/Course/04_evaluating_predictions/images/overlap_distr_no_thresh.pdf\n",
      "  warn('Filename: {}'.format(filename))\n"
     ]
    }
   ],
   "source": [
    "p = (ggplot(df_grp, aes(x='x', y='y',color='Disease'))\n",
    "    + geom_line(size=1.5,show_legend=False)\n",
    "    + scale_color_manual(['b','r'])\n",
    "    + xlab('Threshold')\n",
    "    + ylab('Density')\n",
    "    + tex_theme_blank)\n",
    "# p\n",
    "p.save(f'{PATH_I}/overlap_distr_no_thresh.pdf')"
   ]
  },
  {
   "cell_type": "code",
   "execution_count": 209,
   "metadata": {},
   "outputs": [
    {
     "name": "stderr",
     "output_type": "stream",
     "text": [
      "E:\\Anaconda3\\envs\\curriculum\\lib\\site-packages\\plotnine\\ggplot.py:688: UserWarning: Saving 10 x 7 in image.\n",
      "  from_inches(height, units), units))\n",
      "E:\\Anaconda3\\envs\\curriculum\\lib\\site-packages\\plotnine\\ggplot.py:689: UserWarning: Filename: /MyDocuments/GitHub/curriculum/dig_trans_healthcare/Course/04_evaluating_predictions/images/overlap_distr_thi.pdf\n",
      "  warn('Filename: {}'.format(filename))\n"
     ]
    }
   ],
   "source": [
    "thresh = 47\n",
    "max_val = 1.2*max(df2.y.max(),df1.y.max())\n",
    "df3 = pd.DataFrame({'x':[thresh, thresh],'y':[0,max_val]})\n",
    "p = (ggplot(df_grp, aes(x='x', y='y',color='Disease'))\n",
    "    + geom_line(size=1.5)\n",
    "    + scale_color_manual(['b','r'])\n",
    "    + geom_area(df1.loc[df1.x<=(thresh+.1),:],aes('x', 'y'),fill='red',alpha=0.3,show_legend=False, color=None)\n",
    "    + geom_area(df2.loc[df2.x>=(thresh-.1),:],aes('x', 'y'),fill='blue',alpha=0.3,show_legend=False, color=None)\n",
    "    + geom_line(df3,aes('x','y'),color='k',size=1.5,show_legend=False)\n",
    "    + xlab('Threshold')\n",
    "    + ylab('Density')\n",
    "    + tex_theme )\n",
    "p.save(f'{PATH_I}/overlap_distr_thi.pdf')"
   ]
  },
  {
   "cell_type": "code",
   "execution_count": 90,
   "metadata": {},
   "outputs": [
    {
     "data": {
      "text/plain": [
       "'/MyDocuments/GitHub/curriculum/dig_trans_healthcare/Course/04_evaluating_predictions/imagestest2.pdf'"
      ]
     },
     "execution_count": 90,
     "metadata": {},
     "output_type": "execute_result"
    }
   ],
   "source": [
    "f'{PATH_I}test2.pdf'"
   ]
  },
  {
   "cell_type": "markdown",
   "metadata": {},
   "source": [
    "# ROC curve"
   ]
  },
  {
   "cell_type": "code",
   "execution_count": 289,
   "metadata": {},
   "outputs": [],
   "source": [
    "diag = pd.DataFrame({'x':[0,1],'y':[0,1]})"
   ]
  },
  {
   "cell_type": "code",
   "execution_count": 298,
   "metadata": {},
   "outputs": [
    {
     "data": {
      "image/png": "[encoded data removed]",
      "text/plain": [
       "<Figure size 1000x700 with 1 Axes>"
      ]
     },
     "metadata": {},
     "output_type": "display_data"
    },
    {
     "data": {
      "text/plain": [
       "<ggplot: (12485068)>"
      ]
     },
     "execution_count": 298,
     "metadata": {},
     "output_type": "execute_result"
    }
   ],
   "source": [
    "cdf_pos=stats.norm.cdf(range(100,0,-1), scale=7, loc=45)\n",
    "cdf_neg=stats.norm.cdf(range(100,0,-1), scale=5, loc=35)\n",
    "df_cdf = pd.DataFrame({'TPR':1-cdf_pos,'FPR':1-cdf_neg})\n",
    "p2 = ggplot() + geom_line(df_cdf,aes('FPR','TPR'))  + geom_line(diag, aes('x','y'),linetype='dashed',color='r') + tex_theme\n",
    "    \n",
    "p2"
   ]
  },
  {
   "cell_type": "code",
   "execution_count": 301,
   "metadata": {
    "scrolled": true
   },
   "outputs": [
    {
     "name": "stderr",
     "output_type": "stream",
     "text": [
      "E:\\Anaconda3\\envs\\curriculum\\lib\\site-packages\\plotnine\\ggplot.py:688: UserWarning: Saving 10 x 7 in image.\n",
      "  from_inches(height, units), units))\n",
      "E:\\Anaconda3\\envs\\curriculum\\lib\\site-packages\\plotnine\\ggplot.py:689: UserWarning: Filename: /MyDocuments/GitHub/curriculum/dig_trans_healthcare/Course/04_evaluating_predictions/images/ROC.pdf\n",
      "  warn('Filename: {}'.format(filename))\n"
     ]
    }
   ],
   "source": [
    "p2.save(f'{PATH_I}/ROC.pdf')"
   ]
  },
  {
   "cell_type": "markdown",
   "metadata": {},
   "source": [
    "# AUC vs prevalence"
   ]
  },
  {
   "cell_type": "code",
   "execution_count": 321,
   "metadata": {},
   "outputs": [],
   "source": [
    "cdf_pos=stats.norm.cdf(range(100,0,-1), scale=1, loc=50)\n",
    "# cdf_neg=stats.norm.cdf(range(100,0,-1), scale=5, loc=35)"
   ]
  },
  {
   "cell_type": "code",
   "execution_count": 322,
   "metadata": {},
   "outputs": [
    {
     "data": {
      "text/plain": [
       "array([1.00000000e+000, 1.00000000e+000, 1.00000000e+000, 1.00000000e+000,\n",
       "       1.00000000e+000, 1.00000000e+000, 1.00000000e+000, 1.00000000e+000,\n",
       "       1.00000000e+000, 1.00000000e+000, 1.00000000e+000, 1.00000000e+000,\n",
       "       1.00000000e+000, 1.00000000e+000, 1.00000000e+000, 1.00000000e+000,\n",
       "       1.00000000e+000, 1.00000000e+000, 1.00000000e+000, 1.00000000e+000,\n",
       "       1.00000000e+000, 1.00000000e+000, 1.00000000e+000, 1.00000000e+000,\n",
       "       1.00000000e+000, 1.00000000e+000, 1.00000000e+000, 1.00000000e+000,\n",
       "       1.00000000e+000, 1.00000000e+000, 1.00000000e+000, 1.00000000e+000,\n",
       "       1.00000000e+000, 1.00000000e+000, 1.00000000e+000, 1.00000000e+000,\n",
       "       1.00000000e+000, 1.00000000e+000, 1.00000000e+000, 1.00000000e+000,\n",
       "       1.00000000e+000, 1.00000000e+000, 1.00000000e+000, 1.00000000e+000,\n",
       "       9.99999999e-001, 9.99999713e-001, 9.99968329e-001, 9.98650102e-001,\n",
       "       9.77249868e-001, 8.41344746e-001, 5.00000000e-001, 1.58655254e-001,\n",
       "       2.27501319e-002, 1.34989803e-003, 3.16712418e-005, 2.86651572e-007,\n",
       "       9.86587645e-010, 1.27981254e-012, 6.22096057e-016, 1.12858841e-019,\n",
       "       7.61985302e-024, 1.91065957e-028, 1.77648211e-033, 6.11716440e-039,\n",
       "       7.79353682e-045, 3.67096620e-051, 6.38875440e-058, 4.10599620e-065,\n",
       "       9.74094892e-073, 8.52722395e-081, 2.75362412e-089, 3.27927802e-098,\n",
       "       1.43989244e-107, 2.33063701e-117, 1.39039212e-127, 3.05669671e-138,\n",
       "       2.47606332e-149, 7.38948101e-161, 8.12386947e-173, 3.28978527e-185,\n",
       "       4.90671393e-198, 2.69525008e-211, 5.45208060e-225, 4.06118562e-239,\n",
       "       1.11389879e-253, 1.12491071e-268, 4.18262407e-284, 5.72557122e-300,\n",
       "       0.00000000e+000, 0.00000000e+000, 0.00000000e+000, 0.00000000e+000,\n",
       "       0.00000000e+000, 0.00000000e+000, 0.00000000e+000, 0.00000000e+000,\n",
       "       0.00000000e+000, 0.00000000e+000, 0.00000000e+000, 0.00000000e+000])"
      ]
     },
     "execution_count": 322,
     "metadata": {},
     "output_type": "execute_result"
    }
   ],
   "source": [
    "cdf_pos"
   ]
  },
  {
   "cell_type": "code",
   "execution_count": null,
   "metadata": {},
   "outputs": [],
   "source": [
    "p = (ggplot(df_grp, aes(x='x', y='y',color='Disease'))\n",
    "p = (ggplot(cdf_pos)     \n",
    "    + geom_line(size=1.5,show_legend=False)\n",
    "    + scale_color_manual(['b','r'])\n",
    "    + xlab('Threshold')\n",
    "    + ylab('Density')\n",
    "    + tex_theme_blank)"
   ]
  },
  {
   "cell_type": "code",
   "execution_count": 331,
   "metadata": {},
   "outputs": [
    {
     "data": {
      "text/plain": [
       "49.89997285406799"
      ]
     },
     "execution_count": 331,
     "metadata": {},
     "output_type": "execute_result"
    }
   ],
   "source": [
    "y.sum()"
   ]
  },
  {
   "cell_type": "code",
   "execution_count": 4,
   "metadata": {
    "ExecuteTime": {
     "end_time": "2018-07-19T13:29:00.965332Z",
     "start_time": "2018-07-19T13:29:00.911327Z"
    }
   },
   "outputs": [],
   "source": [
    "x = np.linspace(0,100,10**4)\n",
    "y1 = stats.norm.pdf(x,40,4)\n",
    "y2 = stats.norm.pdf(x,25,5)\n",
    "pos = 0.65\n",
    "y1 = y1*pos\n",
    "y2 = y2*(1-pos)\n",
    "# y.sum()"
   ]
  },
  {
   "cell_type": "code",
   "execution_count": 5,
   "metadata": {
    "ExecuteTime": {
     "end_time": "2018-07-19T13:29:03.770613Z",
     "start_time": "2018-07-19T13:29:02.390475Z"
    },
    "scrolled": false
   },
   "outputs": [
    {
     "name": "stdout",
     "output_type": "stream",
     "text": [
      "64.99350000000001 34.996490020146716\n"
     ]
    },
    {
     "data": {
      "image/png": "[encoded data removed]",
      "text/plain": [
       "<Figure size 1000x700 with 1 Axes>"
      ]
     },
     "metadata": {},
     "output_type": "display_data"
    },
    {
     "data": {
      "text/plain": [
       "<ggplot: (12080399)>"
      ]
     },
     "execution_count": 5,
     "metadata": {},
     "output_type": "execute_result"
    }
   ],
   "source": [
    "df1 = pd.DataFrame({'x':x,'y':y1,'grp':'pos'})\n",
    "df2 = pd.DataFrame({'x':x,'y':y2,'grp':'neg'})\n",
    "df_grp = pd.concat([df1,df2])\n",
    "print(y1.sum(),y2.sum())\n",
    "ggplot(df_grp,aes('x','y',color='grp')) + geom_line()"
   ]
  },
  {
   "cell_type": "code",
   "execution_count": 13,
   "metadata": {
    "ExecuteTime": {
     "end_time": "2018-07-19T13:41:55.275756Z",
     "start_time": "2018-07-19T13:41:55.256754Z"
    }
   },
   "outputs": [
    {
     "data": {
      "text/plain": [
       "[32.49026718632246, 34.949217359040816]"
      ]
     },
     "execution_count": 13,
     "metadata": {},
     "output_type": "execute_result"
    }
   ],
   "source": [
    "df_dif = pd.DataFrame({'x':x,'pos':y1,'neg':y2})\n",
    "df_dif.loc[df_dif.x<=40,['pos','neg']].sum().tolist()"
   ]
  },
  {
   "cell_type": "code",
   "execution_count": 17,
   "metadata": {
    "ExecuteTime": {
     "end_time": "2018-07-19T13:42:55.939822Z",
     "start_time": "2018-07-19T13:42:55.923820Z"
    }
   },
   "outputs": [
    {
     "data": {
      "text/plain": [
       "0.325"
      ]
     },
     "execution_count": 17,
     "metadata": {},
     "output_type": "execute_result"
    }
   ],
   "source": [
    "stats.norm.cdf(40,loc=40,scale=4)*.65"
   ]
  },
  {
   "cell_type": "code",
   "execution_count": 18,
   "metadata": {
    "ExecuteTime": {
     "end_time": "2018-07-19T13:50:15.896813Z",
     "start_time": "2018-07-19T13:50:15.891812Z"
    }
   },
   "outputs": [],
   "source": [
    "mn_p = 40\n",
    "mn_n = 25\n",
    "scl_p = 5\n",
    "scl_n = 4\n",
    "prp_p = 0.65\n",
    "prp_n = 1-prp_p"
   ]
  }
 ],
 "metadata": {
  "kernelspec": {
   "display_name": "Python 3",
   "language": "python",
   "name": "python3"
  },
  "language_info": {
   "codemirror_mode": {
    "name": "ipython",
    "version": 3
   },
   "file_extension": ".py",
   "mimetype": "text/x-python",
   "name": "python",
   "nbconvert_exporter": "python",
   "pygments_lexer": "ipython3",
   "version": "3.6.5"
  }
 },
 "nbformat": 4,
 "nbformat_minor": 2
}
