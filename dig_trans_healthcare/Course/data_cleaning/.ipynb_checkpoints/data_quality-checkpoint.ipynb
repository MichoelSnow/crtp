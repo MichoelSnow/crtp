{
 "cells": [
  {
   "cell_type": "markdown",
   "metadata": {},
   "source": [
    "# Paths and Imports"
   ]
  },
  {
   "cell_type": "code",
   "execution_count": 1,
   "metadata": {
    "ExecuteTime": {
     "end_time": "2018-08-30T15:45:15.101831Z",
     "start_time": "2018-08-30T15:45:05.651886Z"
    }
   },
   "outputs": [],
   "source": [
    "import numpy as np\n",
    "import pandas as pd\n",
    "import plotnine\n",
    "from plotnine import *\n",
    "import pydicom\n",
    "\n",
    "plotnine.options.figure_size = (12, 8)"
   ]
  },
  {
   "cell_type": "code",
   "execution_count": 3,
   "metadata": {
    "ExecuteTime": {
     "end_time": "2018-08-30T15:46:23.370657Z",
     "start_time": "2018-08-30T15:46:23.365656Z"
    }
   },
   "outputs": [],
   "source": [
    "PATH = 'E:/MyDocuments/GitHub/curriculum/dig_trans_healthcare/Course/data_quality/'"
   ]
  },
  {
   "cell_type": "code",
   "execution_count": 39,
   "metadata": {
    "ExecuteTime": {
     "end_time": "2018-08-31T16:38:35.286376Z",
     "start_time": "2018-08-31T16:38:35.277375Z"
    }
   },
   "outputs": [],
   "source": [
    "tex_theme = theme(plot_background = element_rect(fill = '#fafafa', color = '#fafafa'), axis_text_x=element_text(size=12),\n",
    "         axis_text_y=element_text(size=12), axis_title_x=element_text(size=15), axis_title_y=element_text(size=15),\n",
    "        legend_background = element_rect(fill=\"#fafafa\"), legend_title=element_text(size=15),legend_text=element_text(size=12),\n",
    "         legend_position=(.8,.7))"
   ]
  },
  {
   "cell_type": "markdown",
   "metadata": {},
   "source": [
    "# Temperature Data"
   ]
  },
  {
   "cell_type": "code",
   "execution_count": 41,
   "metadata": {
    "ExecuteTime": {
     "end_time": "2018-08-31T16:38:56.360483Z",
     "start_time": "2018-08-31T16:38:56.277475Z"
    }
   },
   "outputs": [
    {
     "data": {
      "text/html": [
       "<div>\n",
       "<style scoped>\n",
       "    .dataframe tbody tr th:only-of-type {\n",
       "        vertical-align: middle;\n",
       "    }\n",
       "\n",
       "    .dataframe tbody tr th {\n",
       "        vertical-align: top;\n",
       "    }\n",
       "\n",
       "    .dataframe thead th {\n",
       "        text-align: right;\n",
       "    }\n",
       "</style>\n",
       "<table border=\"1\" class=\"dataframe\">\n",
       "  <thead>\n",
       "    <tr style=\"text-align: right;\">\n",
       "      <th></th>\n",
       "      <th>COUNT(FINDINGID)</th>\n",
       "      <th>NUMERICFINDING</th>\n",
       "    </tr>\n",
       "  </thead>\n",
       "  <tbody>\n",
       "    <tr>\n",
       "      <th>0</th>\n",
       "      <td>3452</td>\n",
       "      <td>NaN</td>\n",
       "    </tr>\n",
       "    <tr>\n",
       "      <th>1</th>\n",
       "      <td>1</td>\n",
       "      <td>998898.0</td>\n",
       "    </tr>\n",
       "    <tr>\n",
       "      <th>2</th>\n",
       "      <td>1</td>\n",
       "      <td>888898.1</td>\n",
       "    </tr>\n",
       "    <tr>\n",
       "      <th>3</th>\n",
       "      <td>1</td>\n",
       "      <td>98245.9</td>\n",
       "    </tr>\n",
       "    <tr>\n",
       "      <th>4</th>\n",
       "      <td>1</td>\n",
       "      <td>98177.0</td>\n",
       "    </tr>\n",
       "  </tbody>\n",
       "</table>\n",
       "</div>"
      ],
      "text/plain": [
       "   COUNT(FINDINGID)  NUMERICFINDING\n",
       "0              3452             NaN\n",
       "1                 1        998898.0\n",
       "2                 1        888898.1\n",
       "3                 1         98245.9\n",
       "4                 1         98177.0"
      ]
     },
     "execution_count": 41,
     "metadata": {},
     "output_type": "execute_result"
    }
   ],
   "source": [
    "df_temp = pd.read_csv(f'{PATH}data/temp_value_counts.csv')\n",
    "df_temp.head()"
   ]
  },
  {
   "cell_type": "code",
   "execution_count": 42,
   "metadata": {
    "ExecuteTime": {
     "end_time": "2018-08-31T16:38:58.886736Z",
     "start_time": "2018-08-31T16:38:58.868734Z"
    }
   },
   "outputs": [],
   "source": [
    "df_temp.drop(index=0, inplace=True)\n",
    "df_temp.NUMERICFINDING = df_temp.NUMERICFINDING.astype(int)\n",
    "df_temp = df_temp.groupby('NUMERICFINDING', as_index=False).sum()\n",
    "df_temp['log_find'] = np.log(df_temp['COUNT(FINDINGID)'])"
   ]
  },
  {
   "cell_type": "code",
   "execution_count": 45,
   "metadata": {
    "ExecuteTime": {
     "end_time": "2018-08-31T16:39:24.743321Z",
     "start_time": "2018-08-31T16:39:22.774124Z"
    },
    "scrolled": true
   },
   "outputs": [
    {
     "name": "stderr",
     "output_type": "stream",
     "text": [
      "E:\\Anaconda3\\envs\\curriculum\\lib\\site-packages\\plotnine\\ggplot.py:708: UserWarning: Saving 12 x 8 in image.\n",
      "  from_inches(height, units), units))\n",
      "E:\\Anaconda3\\envs\\curriculum\\lib\\site-packages\\plotnine\\ggplot.py:709: UserWarning: Filename: E:/MyDocuments/GitHub/curriculum/dig_trans_healthcare/Course/data_quality/images/temp_value_counts.pdf\n",
      "  warn('Filename: {}'.format(filename))\n"
     ]
    }
   ],
   "source": [
    "p = (ggplot(df_temp, aes(x='NUMERICFINDING', y='COUNT(FINDINGID)')) \n",
    "     + geom_bar(stat='identity') \n",
    "     + scale_y_log10() \n",
    "     + coord_cartesian(xlim=(0,250))\n",
    "     + xlab('Temperature (F)')\n",
    "     + ylab('Log Count')\n",
    "     + tex_theme\n",
    "    )\n",
    "# p \n",
    "p.save(f'{PATH}images/temp_value_counts.pdf')"
   ]
  },
  {
   "cell_type": "code",
   "execution_count": 49,
   "metadata": {
    "ExecuteTime": {
     "end_time": "2018-08-31T20:43:03.234170Z",
     "start_time": "2018-08-31T20:43:03.198166Z"
    }
   },
   "outputs": [
    {
     "data": {
      "text/html": [
       "<div>\n",
       "<style scoped>\n",
       "    .dataframe tbody tr th:only-of-type {\n",
       "        vertical-align: middle;\n",
       "    }\n",
       "\n",
       "    .dataframe tbody tr th {\n",
       "        vertical-align: top;\n",
       "    }\n",
       "\n",
       "    .dataframe thead th {\n",
       "        text-align: right;\n",
       "    }\n",
       "</style>\n",
       "<table border=\"1\" class=\"dataframe\">\n",
       "  <thead>\n",
       "    <tr style=\"text-align: right;\">\n",
       "      <th></th>\n",
       "      <th>FINDINGDATETIME</th>\n",
       "      <th>NUMERICFINDING</th>\n",
       "    </tr>\n",
       "  </thead>\n",
       "  <tbody>\n",
       "    <tr>\n",
       "      <th>0</th>\n",
       "      <td>2005-05-19 20:17:12</td>\n",
       "      <td>97.0</td>\n",
       "    </tr>\n",
       "    <tr>\n",
       "      <th>1</th>\n",
       "      <td>2005-05-20 00:37:58</td>\n",
       "      <td>98.9</td>\n",
       "    </tr>\n",
       "    <tr>\n",
       "      <th>2</th>\n",
       "      <td>2005-05-20 08:30:06</td>\n",
       "      <td>98.9</td>\n",
       "    </tr>\n",
       "    <tr>\n",
       "      <th>3</th>\n",
       "      <td>2012-05-26 03:50:27</td>\n",
       "      <td>97.8</td>\n",
       "    </tr>\n",
       "    <tr>\n",
       "      <th>4</th>\n",
       "      <td>2012-05-26 06:03:50</td>\n",
       "      <td>97.7</td>\n",
       "    </tr>\n",
       "  </tbody>\n",
       "</table>\n",
       "</div>"
      ],
      "text/plain": [
       "      FINDINGDATETIME  NUMERICFINDING\n",
       "0 2005-05-19 20:17:12            97.0\n",
       "1 2005-05-20 00:37:58            98.9\n",
       "2 2005-05-20 08:30:06            98.9\n",
       "3 2012-05-26 03:50:27            97.8\n",
       "4 2012-05-26 06:03:50            97.7"
      ]
     },
     "execution_count": 49,
     "metadata": {},
     "output_type": "execute_result"
    }
   ],
   "source": [
    "df_temp2 = pd.read_csv(f'{PATH}data/pt_temp_values.csv')\n",
    "df_temp2.FINDINGDATETIME = pd.to_datetime(df_temp2.FINDINGDATETIME, format='%Y-%m-%d %H:%M:%S')\n",
    "df_temp2.head()"
   ]
  },
  {
   "cell_type": "code",
   "execution_count": 74,
   "metadata": {
    "ExecuteTime": {
     "end_time": "2018-08-31T21:14:55.117339Z",
     "start_time": "2018-08-31T21:14:54.837311Z"
    }
   },
   "outputs": [
    {
     "data": {
      "image/png": "[encoded data removed]",
      "text/plain": [
       "<Figure size 1200x800 with 1 Axes>"
      ]
     },
     "metadata": {},
     "output_type": "display_data"
    },
    {
     "data": {
      "text/plain": [
       "<ggplot: (-9223372036842130905)>"
      ]
     },
     "execution_count": 74,
     "metadata": {},
     "output_type": "execute_result"
    }
   ],
   "source": [
    "p = (ggplot(df_temp2.loc[(df_temp2.FINDINGDATETIME>'2012-12-01') & (df_temp2.FINDINGDATETIME<'2016-01-01'),:], aes('FINDINGDATETIME','NUMERICFINDING')) \n",
    "     + geom_point(size=3, color='b')\n",
    "     + scale_x_date(date_breaks = '1 year', date_labels = '%Y')\n",
    "     + tex_theme\n",
    "#      + theme(axis_text_x = element_text(angle=90, hjust=1))\n",
    "    )\n",
    "p\n",
    "# p.save(f'{PATH}images/pt_temp_values.pdf', verbose=False)"
   ]
  },
  {
   "cell_type": "markdown",
   "metadata": {
    "heading_collapsed": true
   },
   "source": [
    "# DICOM"
   ]
  },
  {
   "cell_type": "code",
   "execution_count": 18,
   "metadata": {
    "ExecuteTime": {
     "end_time": "2018-08-30T19:54:37.798096Z",
     "start_time": "2018-08-30T19:54:37.788095Z"
    },
    "hidden": true
   },
   "outputs": [],
   "source": [
    "ds = pydicom.dcmread(f'{PATH}data/356248481.dcm', stop_before_pixels=True)"
   ]
  },
  {
   "cell_type": "code",
   "execution_count": null,
   "metadata": {
    "hidden": true
   },
   "outputs": [],
   "source": [
    "ds."
   ]
  },
  {
   "cell_type": "code",
   "execution_count": 14,
   "metadata": {
    "ExecuteTime": {
     "end_time": "2018-08-30T15:51:08.648182Z",
     "start_time": "2018-08-30T15:51:08.638181Z"
    },
    "hidden": true
   },
   "outputs": [
    {
     "data": {
      "text/plain": [
       "'DA'"
      ]
     },
     "execution_count": 14,
     "metadata": {},
     "output_type": "execute_result"
    }
   ],
   "source": [
    "(ds.data_element('LastMenstrualDate').VR)"
   ]
  },
  {
   "cell_type": "code",
   "execution_count": null,
   "metadata": {
    "hidden": true
   },
   "outputs": [],
   "source": [
    "ds."
   ]
  },
  {
   "cell_type": "code",
   "execution_count": 26,
   "metadata": {
    "ExecuteTime": {
     "end_time": "2018-08-30T19:56:28.980213Z",
     "start_time": "2018-08-30T19:56:28.972213Z"
    },
    "hidden": true
   },
   "outputs": [
    {
     "data": {
      "text/plain": [
       "'Group Length'"
      ]
     },
     "execution_count": 26,
     "metadata": {},
     "output_type": "execute_result"
    }
   ],
   "source": [
    "x.name\n"
   ]
  },
  {
   "cell_type": "code",
   "execution_count": 30,
   "metadata": {
    "ExecuteTime": {
     "end_time": "2018-08-30T19:58:50.748389Z",
     "start_time": "2018-08-30T19:58:50.736388Z"
    },
    "hidden": true,
    "scrolled": true
   },
   "outputs": [],
   "source": [
    "name_list = []\n",
    "type_list = []\n",
    "val_list = []\n",
    "for x in ds.iterall():\n",
    "    name_list.append(x.name)\n",
    "    type_list.append(x.VR)\n",
    "    val_list.append(x.value)\n",
    "df = pd.DataFrame({'name':name_list,'VR':type_list,'value':val_list})"
   ]
  },
  {
   "cell_type": "code",
   "execution_count": 38,
   "metadata": {
    "ExecuteTime": {
     "end_time": "2018-08-30T20:05:47.823092Z",
     "start_time": "2018-08-30T20:05:47.808091Z"
    },
    "hidden": true
   },
   "outputs": [
    {
     "name": "stdout",
     "output_type": "stream",
     "text": [
      "\\begin{tabular}{lll}\n",
      "\\toprule\n",
      "                        name &  VR &                                              value \\\\\n",
      "\\midrule\n",
      "                Group Length &  UL &                                                532 \\\\\n",
      "                  Image Type &  CS &                                            DERIVED \\\\\n",
      "               SOP Class UID &  UI &                          1.2.840.10008.5.1.4.1.1.2 \\\\\n",
      "            SOP Instance UID &  UI &          1.2.840.114356.2008.11.30.12.34.2.329.999 \\\\\n",
      "                  Study Date &  DA &                                           20081230 \\\\\n",
      "                Content Date &  DA &                                           20081230 \\\\\n",
      "                  Study Time &  TM &                                             122731 \\\\\n",
      "                Content Time &  TM &                                         12299.0000 \\\\\n",
      "            Accession Number &  SH &                                            7421249 \\\\\n",
      "                    Modality &  CS &                                                 CT \\\\\n",
      "            Institution Name &  LO &                       Manhasset Diagnostic Imaging \\\\\n",
      "  Referring Physician's Name &  PN &                                      HOUTEN,JOHN K \\\\\n",
      "                Station Name &  SH &                                                    \\\\\n",
      "           Study Description &  LO &                  MOSES CT Outside Reference Images \\\\\n",
      "     Procedure Code Sequence &  SQ &  [\\{(0008, 0100): (0008, 0100) Code Value       ... \\\\\n",
      "                  Code Value &  SH &                                      MOSESOUTREFCT \\\\\n",
      "    Coding Scheme Designator &  SH &                                              GEIIS \\\\\n",
      "       Coding Scheme Version &  SH &                                                  0 \\\\\n",
      "                Code Meaning &  LO &                  MOSES CT Outside Reference Images \\\\\n",
      "          Series Description &  LO &                                        Reformatted \\\\\n",
      "    Referenced SOP Class UID &  UI &   1.2.840.113619.2.51762891606.1649.1005918257.250 \\\\\n",
      " Referenced SOP Instance UID &  UI &         1.2.840.114356.2008.11.30.12.34.2.329.1301 \\\\\n",
      "             Private Creator &  UL &                                                 24 \\\\\n",
      "            Private tag data &  LO &                                              GEIIS \\\\\n",
      "                   [Unknown] &  IS &                                                  2 \\\\\n",
      "                Group Length &  UL &                                                116 \\\\\n",
      "              Patient's Name &  PN &                                      NEWMAN\\textasciicircum LESLIE \\\\\n",
      "                  Patient ID &  LO &                                           03162004 \\\\\n",
      "        Issuer of Patient ID &  LO &                   001P34:20040521:160649200:103562 \\\\\n",
      "        Patient's Birth Date &  DA &                                           19510820 \\\\\n",
      "               Patient's Sex &  CS &                                                  F \\\\\n",
      "\\bottomrule\n",
      "\\end{tabular}\n",
      "\n"
     ]
    }
   ],
   "source": [
    "print(df.loc[:30,:].to_latex(index=False))"
   ]
  },
  {
   "cell_type": "code",
   "execution_count": 19,
   "metadata": {
    "ExecuteTime": {
     "end_time": "2018-08-30T19:55:27.563072Z",
     "start_time": "2018-08-30T19:55:27.551071Z"
    },
    "hidden": true
   },
   "outputs": [
    {
     "data": {
      "text/plain": [
       "[(0008, 0000) Group Length                        UL: 532,\n",
       " (0008, 0008) Image Type                          CS: 'DERIVED',\n",
       " (0008, 0016) SOP Class UID                       UI: CT Image Storage,\n",
       " (0008, 0018) SOP Instance UID                    UI: 1.2.840.114356.2008.11.30.12.34.2.329.999,\n",
       " (0008, 0020) Study Date                          DA: '20081230',\n",
       " (0008, 0023) Content Date                        DA: '20081230',\n",
       " (0008, 0030) Study Time                          TM: '122731',\n",
       " (0008, 0033) Content Time                        TM: '12299.0000',\n",
       " (0008, 0050) Accession Number                    SH: '7421249',\n",
       " (0008, 0060) Modality                            CS: 'CT',\n",
       " (0008, 0080) Institution Name                    LO: 'Manhasset Diagnostic Imaging',\n",
       " (0008, 0090) Referring Physician's Name          PN: 'HOUTEN,JOHN K',\n",
       " (0008, 1010) Station Name                        SH: '',\n",
       " (0008, 1030) Study Description                   LO: 'MOSES CT Outside Reference Images',\n",
       " <Sequence, length 1>,\n",
       " (0008, 0100) Code Value                          SH: 'MOSESOUTREFCT',\n",
       " (0008, 0102) Coding Scheme Designator            SH: 'GEIIS',\n",
       " (0008, 0103) Coding Scheme Version               SH: '0',\n",
       " (0008, 0104) Code Meaning                        LO: 'MOSES CT Outside Reference Images',\n",
       " (0008, 103e) Series Description                  LO: 'Reformatted',\n",
       " (0008, 1150) Referenced SOP Class UID            UI: 1.2.840.113619.2.51762891606.1649.1005918257.250,\n",
       " (0008, 1155) Referenced SOP Instance UID         UI: 1.2.840.114356.2008.11.30.12.34.2.329.1301,\n",
       " (0009, 0000) Private Creator                     UL: 24,\n",
       " (0009, 0010) Private tag data                    LO: 'GEIIS',\n",
       " (0009, 1012) [Unknown]                           IS: '2',\n",
       " (0010, 0000) Group Length                        UL: 116,\n",
       " (0010, 0010) Patient's Name                      PN: 'NEWMAN^LESLIE',\n",
       " (0010, 0020) Patient ID                          LO: '03162004',\n",
       " (0010, 0021) Issuer of Patient ID                LO: '001P34:20040521:160649200:103562',\n",
       " (0010, 0030) Patient's Birth Date                DA: '19510820',\n",
       " (0010, 0040) Patient's Sex                       CS: 'F',\n",
       " (0010, 1010) Patient's Age                       AS: '57y',\n",
       " (0018, 0000) Group Length                        UL: 38,\n",
       " (0018, 0050) Slice Thickness                     DS: \"0.600\",\n",
       " (0018, 0081) Echo Time                           DS: \"0.000000\",\n",
       " (0018, 0086) Echo Number(s)                      IS: '',\n",
       " (0020, 0000) Group Length                        UL: 292,\n",
       " (0020, 000d) Study Instance UID                  UI: 1.2.840.113619.2.55.3.163607914.245.1230584662.615,\n",
       " (0020, 000e) Series Instance UID                 UI: 1.2.840.114356.2008.11.30.12.34.2.329.955,\n",
       " (0020, 0010) Study ID                            SH: '1727762A',\n",
       " (0020, 0011) Series Number                       IS: '3',\n",
       " (0020, 0013) Instance Number                     IS: '44',\n",
       " (0020, 0032) Image Position (Patient)            DS: ['-76.399872', '-52.588542', '90.249073'],\n",
       " (0020, 0037) Image Orientation (Patient)         DS: ['1.000000', '0.000000', '0.000000', '0.000000', '0.859007', '0.511964'],\n",
       " (0020, 0052) Frame of Reference UID              UI: 1.2.840.113704.1.111.5120.1054661253.3,\n",
       " (0028, 0000) Group Length                        UL: 194,\n",
       " (0028, 0002) Samples per Pixel                   US: 1,\n",
       " (0028, 0004) Photometric Interpretation          CS: 'MONOCHROME2',\n",
       " (0028, 0006) Planar Configuration                US: 0,\n",
       " (0028, 0010) Rows                                US: 581,\n",
       " (0028, 0011) Columns                             US: 581,\n",
       " (0028, 0030) Pixel Spacing                       DS: ['0.273438', '0.273438'],\n",
       " (0028, 0100) Bits Allocated                      US: 16,\n",
       " (0028, 0101) Bits Stored                         US: 16,\n",
       " (0028, 0102) High Bit                            US: 15,\n",
       " (0028, 0103) Pixel Representation                US: 1,\n",
       " (0028, 1050) Window Center                       DS: \"127.500\",\n",
       " (0028, 1051) Window Width                        DS: \"382.500\",\n",
       " (0028, 1052) Rescale Intercept                   DS: \"-1024.000000\",\n",
       " (0028, 1053) Rescale Slope                       DS: \"1.000000\",\n",
       " <Sequence, length 1>,\n",
       " (0040, 1001) Requested Procedure ID              SH: '7421249',\n",
       " (0054, 0000) Group Length                        UL: 50,\n",
       " (0054, 0400) Image ID                            SH: '1.2.840.114356.2008.11.30.12.34.2.329.999',\n",
       " (0903, 0010) Private Creator                     LO: 'GEIIS PACS',\n",
       " (0903, 1010) [Reject Image Flag]                 US: 0,\n",
       " (0903, 1011) [Significant Flag]                  US: 0,\n",
       " (0903, 1012) [Confidential Flag]                 US: 0,\n",
       " (0905, 0010) Private Creator                     LO: 'GEIIS',\n",
       " (0905, 1030) [Assigning Authority For Patient ID LO: '001P34:20040521:160649200:103562',\n",
       " (3109, 0010) Private Creator                     LO: 'Applicare/RadWorks/Version 5.0',\n",
       " (3109, 0011) Private Creator                     LO: 'Applicare/RadWorks/Version 6.0/Summary',\n",
       " (3109, 1002) [NEW/SEEN Status]                   SH: 'NEW',\n",
       " (3109, 1008) [Receive Origin]                    LO: 'p18mo101.montefiore.org',\n",
       " (3109, 100a) [Receive Date]                      DA: '20090112',\n",
       " (3109, 100b) [Receive Time]                      TM: '130748',\n",
       " (3109, 1112) [Receive Origin Description]        ST: 'PL2CMOSA101',\n",
       " (7fd1, 0000) Private Creator                     UL: 98,\n",
       " (7fd1, 0010) Variable Pixel Data                 LO: 'GEIIS',\n",
       " (7fd1, 1030) [Unknown]                           UL: 3,\n",
       " (7fd1, 1040) [Unknown]                           UL: [73, 146, 291, 581],\n",
       " (7fd1, 1050) [Unknown]                           UL: [73, 146, 291, 581],\n",
       " (7fd1, 1060) [Unknown]                           UL: [5836, 13296, 43464, 138116]]"
      ]
     },
     "execution_count": 19,
     "metadata": {},
     "output_type": "execute_result"
    }
   ],
   "source": [
    "[x for x in ds.iterall()]"
   ]
  },
  {
   "cell_type": "markdown",
   "metadata": {},
   "source": [
    "# Next"
   ]
  },
  {
   "cell_type": "code",
   "execution_count": null,
   "metadata": {},
   "outputs": [],
   "source": []
  },
  {
   "cell_type": "code",
   "execution_count": null,
   "metadata": {},
   "outputs": [],
   "source": []
  },
  {
   "cell_type": "code",
   "execution_count": null,
   "metadata": {},
   "outputs": [],
   "source": []
  },
  {
   "cell_type": "code",
   "execution_count": null,
   "metadata": {},
   "outputs": [],
   "source": []
  }
 ],
 "metadata": {
  "kernelspec": {
   "display_name": "Python 3",
   "language": "python",
   "name": "python3"
  },
  "language_info": {
   "codemirror_mode": {
    "name": "ipython",
    "version": 3
   },
   "file_extension": ".py",
   "mimetype": "text/x-python",
   "name": "python",
   "nbconvert_exporter": "python",
   "pygments_lexer": "ipython3",
   "version": "3.6.5"
  }
 },
 "nbformat": 4,
 "nbformat_minor": 2
}
